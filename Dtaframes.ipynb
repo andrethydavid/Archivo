{
  "nbformat": 4,
  "nbformat_minor": 0,
  "metadata": {
    "colab": {
      "provenance": [],
      "authorship_tag": "ABX9TyMZJ6WbJHW47kbK8vGMPtg+",
      "include_colab_link": true
    },
    "kernelspec": {
      "name": "python3",
      "display_name": "Python 3"
    },
    "language_info": {
      "name": "python"
    }
  },
  "cells": [
    {
      "cell_type": "markdown",
      "metadata": {
        "id": "view-in-github",
        "colab_type": "text"
      },
      "source": [
        "<a href=\"https://colab.research.google.com/github/andrethydavid/Archivo/blob/master/Dtaframes.ipynb\" target=\"_parent\"><img src=\"https://colab.research.google.com/assets/colab-badge.svg\" alt=\"Open In Colab\"/></a>"
      ]
    },
    {
      "cell_type": "markdown",
      "source": [
        "***Pandas***\n",
        "\n",
        "\n",
        "\n"
      ],
      "metadata": {
        "id": "SAzZFGf_mo2F"
      }
    },
    {
      "cell_type": "markdown",
      "source": [
        "Pandas\n",
        "Pandas es una librería de Python especializada en el manejo y análisis de estructuras de datos. El nombre viene de “Panel data”.\n",
        "\n",
        "• Velocidad\n",
        "• Poco código\n",
        "• Múltiples formatos de archivos\n",
        "• Alineación inteligente\n",
        "\n",
        "Pandas Series\n",
        "Es muy parecido a un array de una dimensión (o vector) de NumPy.\n",
        "\n",
        "• Arreglo unidimensional indexado\n",
        "• Búsqueda por índice\n",
        "• Slicing\n",
        "• Operaciones aritméticas\n",
        "• Distintos tipos de datos\n",
        "\n",
        "Pandas DataFrame\n",
        "Muy parecido a las estructuras matriciales trabajadas con NumPy.\n",
        "\n",
        "• Estructura principal\n",
        "• Arreglo de dos dimensiones\n",
        "• Búsqueda por índice (columnas o filas)\n",
        "• Slicing\n",
        "• Operaciones aritméticas\n",
        "• Distintos tipos de datos\n",
        "• Tamaño variable\n",
        "\n",
        "Series\n",
        "Es un arreglo unidimensional indexado"
      ],
      "metadata": {
        "id": "Ax-mDvE8mhTQ"
      }
    },
    {
      "cell_type": "code",
      "source": [
        "import pandas as pd"
      ],
      "metadata": {
        "id": "Feju5w2YmjFl"
      },
      "execution_count": 1,
      "outputs": []
    },
    {
      "cell_type": "code",
      "source": [
        "psg_players = pd.Series(['Navas','Mbappe','Neymar','Messi'],\n",
        "                        index=[1,7,10,30]\n",
        "                        )\n"
      ],
      "metadata": {
        "id": "dwe_i72InJoF"
      },
      "execution_count": 2,
      "outputs": []
    },
    {
      "cell_type": "code",
      "source": [
        "psg_players"
      ],
      "metadata": {
        "colab": {
          "base_uri": "https://localhost:8080/"
        },
        "id": "SlWj62pxn2M5",
        "outputId": "6e9849e8-3f9e-4105-ba67-730e619a1008"
      },
      "execution_count": 3,
      "outputs": [
        {
          "output_type": "execute_result",
          "data": {
            "text/plain": [
              "1      Navas\n",
              "7     Mbappe\n",
              "10    Neymar\n",
              "30     Messi\n",
              "dtype: object"
            ]
          },
          "metadata": {},
          "execution_count": 3
        }
      ]
    },
    {
      "cell_type": "code",
      "source": [
        "dict = {1: 'Navas', 7: 'Mbappe', 10: 'Neymar', 30:'Messi'}\n",
        "pd.Series(dict)\n"
      ],
      "metadata": {
        "colab": {
          "base_uri": "https://localhost:8080/"
        },
        "id": "26tr1LRNwuVU",
        "outputId": "78b70640-8638-467b-c9ac-3e40deb599d0"
      },
      "execution_count": 4,
      "outputs": [
        {
          "output_type": "execute_result",
          "data": {
            "text/plain": [
              "1      Navas\n",
              "7     Mbappe\n",
              "10    Neymar\n",
              "30     Messi\n",
              "dtype: object"
            ]
          },
          "metadata": {},
          "execution_count": 4
        }
      ]
    },
    {
      "cell_type": "code",
      "source": [
        "psg_players[7]"
      ],
      "metadata": {
        "colab": {
          "base_uri": "https://localhost:8080/",
          "height": 36
        },
        "id": "AhRQXdcWwyLP",
        "outputId": "a50fb588-a98d-4ffe-d206-a5221fb224bf"
      },
      "execution_count": 5,
      "outputs": [
        {
          "output_type": "execute_result",
          "data": {
            "text/plain": [
              "'Mbappe'"
            ],
            "application/vnd.google.colaboratory.intrinsic+json": {
              "type": "string"
            }
          },
          "metadata": {},
          "execution_count": 5
        }
      ]
    },
    {
      "cell_type": "code",
      "source": [
        "psg_players[7]"
      ],
      "metadata": {
        "colab": {
          "base_uri": "https://localhost:8080/",
          "height": 36
        },
        "id": "U5tp1i1Yw0mb",
        "outputId": "710c9eb9-8001-4a45-9a00-b5b83ef3eb85"
      },
      "execution_count": 6,
      "outputs": [
        {
          "output_type": "execute_result",
          "data": {
            "text/plain": [
              "'Mbappe'"
            ],
            "application/vnd.google.colaboratory.intrinsic+json": {
              "type": "string"
            }
          },
          "metadata": {},
          "execution_count": 6
        }
      ]
    },
    {
      "cell_type": "code",
      "source": [
        "dict = {'Jugador':['Navas','Mbappe','Neymar','Messi'],\n",
        " 'Altura':[183.0, 170.0, 170.0, 163.0],\n",
        "  'Goles':[2, 200, 150, 500]}"
      ],
      "metadata": {
        "id": "SbG96xtsw3O1"
      },
      "execution_count": 10,
      "outputs": []
    },
    {
      "cell_type": "code",
      "source": [
        "pd.players = pd.DataFrame(dict, index=[1,7,10,30])\n"
      ],
      "metadata": {
        "id": "vh5ln2jKw6Ph"
      },
      "execution_count": 14,
      "outputs": []
    },
    {
      "cell_type": "code",
      "source": [
        "df_players.columns\n"
      ],
      "metadata": {
        "colab": {
          "base_uri": "https://localhost:8080/"
        },
        "id": "SJ0fLwuKyWaw",
        "outputId": "6f9a7eb1-516d-4683-c4fd-d9c6af8a503e"
      },
      "execution_count": 15,
      "outputs": [
        {
          "output_type": "execute_result",
          "data": {
            "text/plain": [
              "Index(['Jugador', 'Altura', 'Goles'], dtype='object')"
            ]
          },
          "metadata": {},
          "execution_count": 15
        }
      ]
    },
    {
      "cell_type": "code",
      "source": [
        "df_players.index\n"
      ],
      "metadata": {
        "colab": {
          "base_uri": "https://localhost:8080/"
        },
        "id": "XaPZrZ8YycZS",
        "outputId": "cb48293d-7151-4e2f-91a1-2789315f4855"
      },
      "execution_count": 16,
      "outputs": [
        {
          "output_type": "execute_result",
          "data": {
            "text/plain": [
              "Int64Index([1, 7, 10, 30], dtype='int64')"
            ]
          },
          "metadata": {},
          "execution_count": 16
        }
      ]
    }
  ]
}